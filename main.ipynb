{
 "cells": [
  {
   "cell_type": "code",
   "execution_count": 2,
   "metadata": {},
   "outputs": [
    {
     "data": {
      "text/plain": [
       "'Hello! How can I assist you today?'"
      ]
     },
     "execution_count": 2,
     "metadata": {},
     "output_type": "execute_result"
    }
   ],
   "source": [
    "from langchain.chat_models import ChatOpenAI\n",
    "\n",
    "\n",
    "chat = ChatOpenAI(temperature=0.1)\n",
    "\n",
    "prompt = \"hi there\"\n",
    "\n",
    "chat.predict(prompt)"
   ]
  },
  {
   "cell_type": "code",
   "execution_count": 3,
   "metadata": {},
   "outputs": [
    {
     "data": {
      "text/plain": [
       "AIMessage(content=\"I'm an AI, so I don't have personal desires or preferences. However, I'm here to help and chat with you. Is there anything specific you'd like to talk about or do?\")"
      ]
     },
     "execution_count": 3,
     "metadata": {},
     "output_type": "execute_result"
    }
   ],
   "source": [
    "from langchain.chat_models import ChatOpenAI\n",
    "from langchain.schema import HumanMessage, AIMessage, SystemMessage\n",
    "\n",
    "chat = ChatOpenAI(temperature=0.1)\n",
    "message = [\n",
    "    SystemMessage(\n",
    "        content='you are my friend'        \n",
    "    ),\n",
    "    AIMessage(content=\"hi\"),\n",
    "    HumanMessage(content='what do you want to do?')\n",
    "]\n",
    "\n",
    "chat.predict_messages(message)"
   ]
  },
  {
   "cell_type": "code",
   "execution_count": 5,
   "metadata": {},
   "outputs": [
    {
     "data": {
      "text/plain": [
       "[SystemMessage(content='you are my friend'),\n",
       " AIMessage(content='hi'),\n",
       " HumanMessage(content='what do you want to do?')]"
      ]
     },
     "execution_count": 5,
     "metadata": {},
     "output_type": "execute_result"
    }
   ],
   "source": [
    "from langchain.chat_models import ChatOpenAI\n",
    "from langchain.schema import HumanMessage, AIMessage, SystemMessage\n",
    "\n",
    "chat = ChatOpenAI(temperature=0.1)\n",
    "message = [\n",
    "    SystemMessage(\n",
    "        content='you are my friend'        \n",
    "    ),\n",
    "    AIMessage(content=\"hi\"),\n",
    "    HumanMessage(content='what do you want to do?')\n",
    "]\n",
    "\n",
    "message\n",
    "# chat.predict_messages(message)"
   ]
  },
  {
   "cell_type": "code",
   "execution_count": 9,
   "metadata": {},
   "outputs": [
    {
     "name": "stdout",
     "output_type": "stream",
     "text": [
      "template : input_variables=['countryA', 'countryB'] template='what is the distance between {countryA} and {countryB}?'\n",
      "prompt : what is the distance between mexico and thailand?\n"
     ]
    }
   ],
   "source": [
    "from langchain.prompts import PromptTemplate, ChatPromptTemplate\n",
    "\n",
    "chat = ChatOpenAI()\n",
    "template = PromptTemplate.from_template(\n",
    "    'what is the distance between {countryA} and {countryB}?'\n",
    ")\n",
    "\n",
    "prompt = template.format(countryA='mexico', countryB='thailand')\n",
    "print(\"template :\",  template)\n",
    "print(\"prompt :\", prompt)\n",
    "\n",
    "#  chat.predict(prompt)"
   ]
  },
  {
   "cell_type": "code",
   "execution_count": 14,
   "metadata": {},
   "outputs": [
    {
     "data": {
      "text/plain": [
       "AIMessage(content='The distance between Mexico and Thailand is approximately 16,000 kilometers (9,942 miles).')"
      ]
     },
     "execution_count": 14,
     "metadata": {},
     "output_type": "execute_result"
    }
   ],
   "source": [
    "chat = ChatOpenAI(temperature=0.1)\n",
    "template = ChatPromptTemplate.from_messages([\n",
    "    ('system', 'youre my grifriend'),\n",
    "    ('ai', 'hi'),\n",
    "    ('human', 'what is the distance between {countryA} and {countryB}?')\n",
    "])\n",
    "\n",
    "\n",
    "message = template.format_messages(\n",
    "    countryA = 'mexico',\n",
    "    countryB = 'thailand'\n",
    ")\n",
    "chat.predict_messages(message)"
   ]
  },
  {
   "cell_type": "code",
   "execution_count": 29,
   "metadata": {},
   "outputs": [
    {
     "name": "stdout",
     "output_type": "stream",
     "text": [
      "['red', 'blue', 'green', 'yellow', 'orange', 'purple', 'pink', 'brown', 'black', 'white']\n"
     ]
    }
   ],
   "source": [
    "# outputparser\n",
    "# LLM의 응답의 Dtype을 변환해야 할 때를 위해 필요하다. (디폴트값은 언제나 string)\n",
    "# 예시는 프롬프트를 제너레이터로 활용하는 경우.\n",
    "from langchain.schema import BaseOutputParser\n",
    "\n",
    "class CommaOutputParser(BaseOutputParser) :\n",
    "    def parse(self, text) :\n",
    "\n",
    "        items = text.strip().split(\",\")        \n",
    "        return list(map(str.strip,items))\n",
    "    \n",
    "template = ChatPromptTemplate.from_messages([\n",
    "    'system', \"you are a list generating machine, Everything you are asked will be answered with a comppa separated list of max {max_items}. Do not reply with anything else.\",\n",
    "    'human',\"{question}\"\n",
    "    ])\n",
    "\n",
    "prompt = template.format_messages(\n",
    "    max_items = 10,\n",
    "    question = 'what are the colors    '    \n",
    ")\n",
    "p = CommaOutputParser()\n",
    "result = chat.predict_messages(prompt).content\n",
    "answer = p.parse(result)\n",
    "\n",
    "\n",
    "print(answer)"
   ]
  },
  {
   "cell_type": "code",
   "execution_count": 44,
   "metadata": {},
   "outputs": [
    {
     "data": {
      "text/plain": [
       "['red', 'blue', 'green', 'yellow', 'orange']"
      ]
     },
     "execution_count": 44,
     "metadata": {},
     "output_type": "execute_result"
    }
   ],
   "source": [
    "#chain을 이용해서 위와 동일한 기능을 하는 코드 작성하기\n",
    "# outputparser\n",
    "# LLM의 응답의 Dtype을 변환해야 할 때를 위해 필요하다. (디폴트값은 언제나 string)\n",
    "# 예시는 프롬프트를 제너레이터로 활용하는 경우.\n",
    "from langchain.schema import BaseOutputParser\n",
    "\n",
    "class CommaOutputParser(BaseOutputParser) :\n",
    "    def parse(self, text) :\n",
    "\n",
    "        items = text.strip().split(\",\")        \n",
    "        return list(map(str.strip,items))\n",
    "    \n",
    "template = ChatPromptTemplate.from_messages([\n",
    "    'system', \"you are a list generating machine, Everything you are asked will be answered with a comppa separated list of max {max_items}. Do not reply with anything else.\",\n",
    "    'human',\"{question}\"\n",
    "    ])\n",
    "# 이것을 chain이라고 부른다.\n",
    "chain = template | chat | CommaOutputParser()\n",
    "# 요약된 내용 \n",
    "# result = chat.predict_messages(prompt).content\n",
    "# answer = p.parse(result)\n",
    "chain.invoke({\n",
    "    \"max_items\" : 5,\n",
    "    \"question\" : 'what are the colors?'    \n",
    "})"
   ]
  },
  {
   "cell_type": "code",
   "execution_count": 31,
   "metadata": {},
   "outputs": [],
   "source": [
    "fron = chat.predict_messages(prompt)"
   ]
  },
  {
   "cell_type": "code",
   "execution_count": 41,
   "metadata": {},
   "outputs": [
    {
     "data": {
      "text/plain": [
       "['red',\n",
       " 'blue',\n",
       " 'green',\n",
       " 'yellow',\n",
       " 'orange',\n",
       " 'purple',\n",
       " 'pink',\n",
       " 'brown',\n",
       " 'black',\n",
       " 'white']"
      ]
     },
     "execution_count": 41,
     "metadata": {},
     "output_type": "execute_result"
    }
   ],
   "source": []
  }
 ],
 "metadata": {
  "kernelspec": {
   "display_name": "env",
   "language": "python",
   "name": "python3"
  },
  "language_info": {
   "codemirror_mode": {
    "name": "ipython",
    "version": 3
   },
   "file_extension": ".py",
   "mimetype": "text/x-python",
   "name": "python",
   "nbconvert_exporter": "python",
   "pygments_lexer": "ipython3",
   "version": "3.9.10"
  }
 },
 "nbformat": 4,
 "nbformat_minor": 2
}
