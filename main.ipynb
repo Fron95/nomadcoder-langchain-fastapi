{
 "cells": [
  {
   "cell_type": "code",
   "execution_count": 2,
   "metadata": {},
   "outputs": [
    {
     "data": {
      "text/plain": [
       "'Hello! How can I assist you today?'"
      ]
     },
     "execution_count": 2,
     "metadata": {},
     "output_type": "execute_result"
    }
   ],
   "source": [
    "from langchain.chat_models import ChatOpenAI\n",
    "\n",
    "\n",
    "chat = ChatOpenAI(temperature=0.1)\n",
    "\n",
    "prompt = \"hi there\"\n",
    "\n",
    "chat.predict(prompt)"
   ]
  },
  {
   "cell_type": "code",
   "execution_count": 3,
   "metadata": {},
   "outputs": [
    {
     "data": {
      "text/plain": [
       "AIMessage(content=\"I'm an AI, so I don't have personal desires or preferences. However, I'm here to help and chat with you. Is there anything specific you'd like to talk about or do?\")"
      ]
     },
     "execution_count": 3,
     "metadata": {},
     "output_type": "execute_result"
    }
   ],
   "source": [
    "from langchain.chat_models import ChatOpenAI\n",
    "from langchain.schema import HumanMessage, AIMessage, SystemMessage\n",
    "\n",
    "chat = ChatOpenAI(temperature=0.1)\n",
    "message = [\n",
    "    SystemMessage(\n",
    "        content='you are my friend'        \n",
    "    ),\n",
    "    AIMessage(content=\"hi\"),\n",
    "    HumanMessage(content='what do you want to do?')\n",
    "]\n",
    "\n",
    "chat.predict_messages(message)"
   ]
  },
  {
   "cell_type": "code",
   "execution_count": 5,
   "metadata": {},
   "outputs": [
    {
     "data": {
      "text/plain": [
       "[SystemMessage(content='you are my friend'),\n",
       " AIMessage(content='hi'),\n",
       " HumanMessage(content='what do you want to do?')]"
      ]
     },
     "execution_count": 5,
     "metadata": {},
     "output_type": "execute_result"
    }
   ],
   "source": [
    "from langchain.chat_models import ChatOpenAI\n",
    "from langchain.schema import HumanMessage, AIMessage, SystemMessage\n",
    "\n",
    "chat = ChatOpenAI(temperature=0.1)\n",
    "message = [\n",
    "    SystemMessage(\n",
    "        content='you are my friend'        \n",
    "    ),\n",
    "    AIMessage(content=\"hi\"),\n",
    "    HumanMessage(content='what do you want to do?')\n",
    "]\n",
    "\n",
    "message\n",
    "# chat.predict_messages(message)"
   ]
  },
  {
   "cell_type": "code",
   "execution_count": 9,
   "metadata": {},
   "outputs": [
    {
     "name": "stdout",
     "output_type": "stream",
     "text": [
      "template : input_variables=['countryA', 'countryB'] template='what is the distance between {countryA} and {countryB}?'\n",
      "prompt : what is the distance between mexico and thailand?\n"
     ]
    }
   ],
   "source": [
    "from langchain.prompts import PromptTemplate, ChatPromptTemplate\n",
    "\n",
    "chat = ChatOpenAI()\n",
    "template = PromptTemplate.from_template(\n",
    "    'what is the distance between {countryA} and {countryB}?'\n",
    ")\n",
    "\n",
    "prompt = template.format(countryA='mexico', countryB='thailand')\n",
    "print(\"template :\",  template)\n",
    "print(\"prompt :\", prompt)\n",
    "\n",
    "#  chat.predict(prompt)"
   ]
  },
  {
   "cell_type": "code",
   "execution_count": 14,
   "metadata": {},
   "outputs": [
    {
     "data": {
      "text/plain": [
       "AIMessage(content='The distance between Mexico and Thailand is approximately 16,000 kilometers (9,942 miles).')"
      ]
     },
     "execution_count": 14,
     "metadata": {},
     "output_type": "execute_result"
    }
   ],
   "source": [
    "\n",
    "chat = ChatOpenAI(temperature=0.1)\n",
    "\n",
    "template = ChatPromptTemplate.from_messages([\n",
    "    ('system', 'youre my grifriend'),\n",
    "    ('ai', 'hi'),\n",
    "    ('human', 'what is the distance between {countryA} and {countryB}?')\n",
    "])\n",
    "\n",
    "\n",
    "message = template.format_messages(\n",
    "    countryA = 'mexico',\n",
    "    countryB = 'thailand'\n",
    ")\n",
    "chat.predict_messages(message)"
   ]
  },
  {
   "cell_type": "code",
   "execution_count": null,
   "metadata": {},
   "outputs": [],
   "source": [
    "# outputparser\n",
    "\n",
    "from langchain.schema import BaseOutputParser"
   ]
  }
 ],
 "metadata": {
  "kernelspec": {
   "display_name": "env",
   "language": "python",
   "name": "python3"
  },
  "language_info": {
   "codemirror_mode": {
    "name": "ipython",
    "version": 3
   },
   "file_extension": ".py",
   "mimetype": "text/x-python",
   "name": "python",
   "nbconvert_exporter": "python",
   "pygments_lexer": "ipython3",
   "version": "3.9.10"
  }
 },
 "nbformat": 4,
 "nbformat_minor": 2
}
